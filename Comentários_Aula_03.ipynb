{
  "nbformat": 4,
  "nbformat_minor": 0,
  "metadata": {
    "colab": {
      "provenance": [],
      "authorship_tag": "ABX9TyP7+FPSL+yzUIT0tNr6feHf",
      "include_colab_link": true
    },
    "kernelspec": {
      "name": "python3",
      "display_name": "Python 3"
    },
    "language_info": {
      "name": "python"
    }
  },
  "cells": [
    {
      "cell_type": "markdown",
      "metadata": {
        "id": "view-in-github",
        "colab_type": "text"
      },
      "source": [
        "<a href=\"https://colab.research.google.com/github/IvoAC/Lets_code_curso/blob/main/Coment%C3%A1rios_Aula_03.ipynb\" target=\"_parent\"><img src=\"https://colab.research.google.com/assets/colab-badge.svg\" alt=\"Open In Colab\"/></a>"
      ]
    },
    {
      "cell_type": "code",
      "execution_count": null,
      "metadata": {
        "id": "1DnDhonV4OQE"
      },
      "outputs": [],
      "source": []
    },
    {
      "cell_type": "markdown",
      "source": [
        "Revisão\n",
        "\n",
        "Escreva um programa que solicite 5 números inteiros ao usuário, através de um laço while, e ao final mostre o maior número diditado pelo usuário."
      ],
      "metadata": {
        "id": "OTY5OgJk4a-u"
      }
    },
    {
      "cell_type": "code",
      "source": [
        "contador = 0\n",
        "\n",
        "while contador < 5:\n",
        "  contador += 1\n",
        "  num = input('Digite um número: ')\n",
        "  print(\"Tente novamente\")\n",
        "\n",
        "else:\n",
        "  print('O maior número é', max(num))"
      ],
      "metadata": {
        "colab": {
          "base_uri": "https://localhost:8080/"
        },
        "id": "TPQz41Hj4dXV",
        "outputId": "83b2bb11-508a-4769-87b7-c794196ad9cc"
      },
      "execution_count": 9,
      "outputs": [
        {
          "output_type": "stream",
          "name": "stdout",
          "text": [
            "Digite um número: 2\n",
            "Tente novamente\n",
            "Digite um número: 5\n",
            "Tente novamente\n",
            "Digite um número: 3\n",
            "Tente novamente\n",
            "Digite um número: 2\n",
            "Tente novamente\n",
            "Digite um número: 1\n",
            "Tente novamente\n",
            "O maior número é 1\n"
          ]
        }
      ]
    },
    {
      "cell_type": "code",
      "source": [
        "contador = 1\n",
        "maior = int(0)\n",
        "\n",
        "while contador <= 5:\n",
        "    num= int(input('Digite um número: '))\n",
        "    contador +=1\n",
        "    if num >= maior:\n",
        "        maior = int(num)\n",
        "\n",
        "print(maior)"
      ],
      "metadata": {
        "id": "ihPdPGj58uR8"
      },
      "execution_count": null,
      "outputs": []
    },
    {
      "cell_type": "code",
      "source": [
        "numero = int(input('Digite um número para a taboada: '))\n",
        "cont = 0\n",
        "\n",
        "while cont < 10:\n",
        "  cont += 1\n",
        "  taboada = numero*cont\n",
        " \n",
        "  print (f'{numero}x{cont} = {taboada}')"
      ],
      "metadata": {
        "id": "0JeYh3D-BiJl"
      },
      "execution_count": null,
      "outputs": []
    },
    {
      "cell_type": "code",
      "source": [
        "for i in range (0,10,2):\n",
        "    print(i)"
      ],
      "metadata": {
        "colab": {
          "base_uri": "https://localhost:8080/"
        },
        "id": "BJjnGKOdDVCQ",
        "outputId": "0c4b3133-cd0a-4832-9c59-d76d27db7d8a"
      },
      "execution_count": 10,
      "outputs": [
        {
          "output_type": "stream",
          "name": "stdout",
          "text": [
            "0\n",
            "2\n",
            "4\n",
            "6\n",
            "8\n"
          ]
        }
      ]
    },
    {
      "cell_type": "code",
      "source": [
        "cont = 0\n",
        "\n",
        "while cont <= 10:\n",
        "  print(cont)\n",
        "  cont += 1"
      ],
      "metadata": {
        "colab": {
          "base_uri": "https://localhost:8080/"
        },
        "id": "3lmL5CPvEcGB",
        "outputId": "73968c99-5563-484f-f52a-0ca9b027e596"
      },
      "execution_count": 11,
      "outputs": [
        {
          "output_type": "stream",
          "name": "stdout",
          "text": [
            "0\n",
            "1\n",
            "2\n",
            "3\n",
            "4\n",
            "5\n",
            "6\n",
            "7\n",
            "8\n",
            "9\n",
            "10\n"
          ]
        }
      ]
    },
    {
      "cell_type": "code",
      "source": [
        "n = 'ada'\n",
        "\n",
        "for elemento in n:\n",
        "  print(elemento)"
      ],
      "metadata": {
        "colab": {
          "base_uri": "https://localhost:8080/"
        },
        "id": "8CJwNN4aGXcM",
        "outputId": "d0819183-c1bc-4f30-e00a-fbd7a00b02cd"
      },
      "execution_count": 12,
      "outputs": [
        {
          "output_type": "stream",
          "name": "stdout",
          "text": [
            "a\n",
            "d\n",
            "a\n"
          ]
        }
      ]
    },
    {
      "cell_type": "markdown",
      "source": [
        "### Sintaxe FOR"
      ],
      "metadata": {
        "id": "V5J4kUYKHa6Z"
      }
    },
    {
      "cell_type": "code",
      "source": [
        "palavra = 'davi'\n",
        "palavra2 = 'costa'\n",
        "\n",
        "for letra in palavra:\n",
        "  for letra2 in palavra2:\n",
        "      print(letra, letra2)"
      ],
      "metadata": {
        "colab": {
          "base_uri": "https://localhost:8080/"
        },
        "id": "an9rf9SGIBDP",
        "outputId": "2f5eb391-fe58-4574-d71c-d6e824cfea5a"
      },
      "execution_count": 14,
      "outputs": [
        {
          "output_type": "stream",
          "name": "stdout",
          "text": [
            "d c\n",
            "d o\n",
            "d s\n",
            "d t\n",
            "d a\n",
            "a c\n",
            "a o\n",
            "a s\n",
            "a t\n",
            "a a\n",
            "v c\n",
            "v o\n",
            "v s\n",
            "v t\n",
            "v a\n",
            "i c\n",
            "i o\n",
            "i s\n",
            "i t\n",
            "i a\n"
          ]
        }
      ]
    },
    {
      "cell_type": "code",
      "source": [],
      "metadata": {
        "id": "UW019ZJaJupp"
      },
      "execution_count": null,
      "outputs": []
    },
    {
      "cell_type": "markdown",
      "source": [
        "https://leetcode.com/\n"
      ],
      "metadata": {
        "id": "q25ZAMhIO2ZJ"
      }
    },
    {
      "cell_type": "code",
      "source": [
        "for i in range(10):\n",
        "  if i == 5:\n",
        "      continue\n",
        "  print(i)"
      ],
      "metadata": {
        "colab": {
          "base_uri": "https://localhost:8080/"
        },
        "id": "duOysCAwQIkq",
        "outputId": "6ba0eb9e-e0cd-4526-bbf3-5e2299c49ec0"
      },
      "execution_count": 15,
      "outputs": [
        {
          "output_type": "stream",
          "name": "stdout",
          "text": [
            "0\n",
            "1\n",
            "2\n",
            "3\n",
            "4\n",
            "6\n",
            "7\n",
            "8\n",
            "9\n"
          ]
        }
      ]
    },
    {
      "cell_type": "code",
      "source": [
        "for i in range(10):\n",
        "  if i == 5:\n",
        "      break\n",
        "  print(i)"
      ],
      "metadata": {
        "colab": {
          "base_uri": "https://localhost:8080/"
        },
        "id": "cV_7-MwwQXMm",
        "outputId": "8002797f-548f-4fee-ad03-d7090b8efd07"
      },
      "execution_count": 16,
      "outputs": [
        {
          "output_type": "stream",
          "name": "stdout",
          "text": [
            "0\n",
            "1\n",
            "2\n",
            "3\n",
            "4\n"
          ]
        }
      ]
    },
    {
      "cell_type": "markdown",
      "source": [
        "Tabuada de multiplicação de um número inteiro de forma que seja impressa assim:\n",
        "5 X 1 = 5\n",
        "\n",
        "5 X 2 = 10\n",
        "\n",
        "5 X 3 = 15\n",
        "\n",
        "5 X 4 = 20\n",
        "\n",
        "5 X 5 = 25\n",
        "\n",
        "5 X 6 = 30\n",
        "\n",
        "5 X 7 = 35\n",
        "\n",
        "5 X 8 = 40\n",
        "\n",
        "5 X 9 = 45\n",
        "\n",
        "5 X 10 = 50"
      ],
      "metadata": {
        "id": "RYI8ZgGVQ84h"
      }
    },
    {
      "cell_type": "code",
      "source": [
        "num = int(input('numero: '))\n",
        "\n",
        "for i in range(1, 11):\n",
        "  tab = num*i\n",
        "  print(f'{num}x{i} = {tab}')"
      ],
      "metadata": {
        "colab": {
          "base_uri": "https://localhost:8080/"
        },
        "id": "gBAX1c74RFeP",
        "outputId": "6a39d796-a5a0-4c53-881f-6b86f749207a"
      },
      "execution_count": 25,
      "outputs": [
        {
          "output_type": "stream",
          "name": "stdout",
          "text": [
            "numero: 4\n",
            "4x1 = 4\n",
            "4x2 = 8\n",
            "4x3 = 12\n",
            "4x4 = 16\n",
            "4x5 = 20\n",
            "4x6 = 24\n",
            "4x7 = 28\n",
            "4x8 = 32\n",
            "4x9 = 36\n",
            "4x10 = 40\n"
          ]
        }
      ]
    },
    {
      "cell_type": "markdown",
      "source": [
        "Programa que receba uma palavra e imprima a quantidade de vogais e consoantes"
      ],
      "metadata": {
        "id": "MbG58iSnT2Y-"
      }
    },
    {
      "cell_type": "code",
      "source": [
        "nome = input(\"Digite uma palavra: \")\n",
        "\n",
        "vogais = 0\n",
        "consoantes = 0\n",
        "\n",
        "for i in nome:\n",
        "  if i in 'aeiouAEIOU':\n",
        "      vogais += 1\n",
        "  else:\n",
        "      consoantes +=1\n",
        "print(f'A palavra tem {vogais} vogais e {consoantes} consoantes')"
      ],
      "metadata": {
        "colab": {
          "base_uri": "https://localhost:8080/"
        },
        "id": "wWwhT8tuT34d",
        "outputId": "c26b15ab-63f4-43f0-a9a1-2f884cda4706"
      },
      "execution_count": 30,
      "outputs": [
        {
          "output_type": "stream",
          "name": "stdout",
          "text": [
            "Digite uma palavra: Ivo\n",
            "A palavra tem 2 vogais e 1 consoantes\n"
          ]
        }
      ]
    }
  ]
}